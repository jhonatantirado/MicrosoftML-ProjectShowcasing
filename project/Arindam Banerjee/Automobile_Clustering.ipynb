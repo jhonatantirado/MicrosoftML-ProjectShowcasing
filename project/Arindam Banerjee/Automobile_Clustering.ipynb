{
 "cells": [
  {
   "cell_type": "markdown",
   "metadata": {},
   "source": [
    "# Problem Overview:\n",
    "\n",
    "Clustering is one of the important unsupervised learning techniques that can group the data points based upon their inherent properties. In unsupervised learning, there is no labelled data to train the machine learning model. That means there is no guidance or supervision to teach the model about the relationship between input features and output variable. The model itself tries to understand the relationships among the features and extracts the pattern hidden in it. In clustering, the learning algorithm understands this pattern and groups the data points into different segments based on the inherent properties.\n",
    "Segmentation is also crucial to solve several business problems. Segmentation allows us to understand the inherent properties of grouped data points. In this case study also, we will attempt to use clustering to segment data points related to automobiles.\n",
    "\n",
    "Dataset: https://www.kaggle.com/uciml/autompg-dataset\n",
    "\n",
    "Each row of the dataset represents a car from the inventory, each column contains the car’s attributes. The attributes are given below:\n",
    "\n",
    "- mpg: mileage per gallon \n",
    "- cylinders: number of cylinders\n",
    "- displacement: Engine displacement\n",
    "- horsepower: Engine Horsepower\n",
    "- weight: weight of the car\n",
    "- acceleration: acceleration of cars - zero to sixty miles/hour time\n",
    "- model year: year of model\n",
    "- origin: origin of car"
   ]
  },
  {
   "cell_type": "code",
   "execution_count": 33,
   "metadata": {},
   "outputs": [
    {
     "name": "stdout",
     "output_type": "stream",
     "text": [
      "pandas version: 0.23.4 numpy version: 1.16.6\n",
      "The scikit-learn version is 0.20.3.\n",
      "The azureml.core version is 1.12.0.\n"
     ]
    }
   ],
   "source": [
    "import numpy as np\n",
    "import pandas as pd\n",
    "import pickle\n",
    "import sklearn\n",
    "from sklearn.externals import joblib\n",
    "import math\n",
    "\n",
    "print(\"pandas version: {} numpy version: {}\".format(pd.__version__, np.__version__))\n",
    "\n",
    "sklearn_version = sklearn.__version__\n",
    "print('The scikit-learn version is {}.'.format(sklearn_version))\n",
    "from sklearn.cluster import KMeans\n",
    "from sklearn.pipeline import Pipeline\n",
    "from sklearn.impute import SimpleImputer\n",
    "from sklearn.preprocessing import StandardScaler\n",
    "import matplotlib.pyplot as plt\n",
    "%matplotlib inline\n",
    "\n",
    "import azureml\n",
    "import azureml.core\n",
    "from azureml.core import Workspace, Experiment, Run\n",
    "from azureml.core import Datastore, Dataset\n",
    "from azureml.core.model import Model\n",
    "from azureml.core.webservice import Webservice, AksWebservice\n",
    "from azureml.core.image import Image\n",
    "\n",
    "from interpret.ext.blackbox import TabularExplainer\n",
    "from azureml.interpret.scoring.scoring_explainer import TreeScoringExplainer, save\n",
    "\n",
    "print('The azureml.core version is {}.'.format(azureml.core.VERSION))"
   ]
  },
  {
   "cell_type": "markdown",
   "metadata": {},
   "source": [
    "## Setup with Azure Subscription"
   ]
  },
  {
   "cell_type": "code",
   "execution_count": 5,
   "metadata": {},
   "outputs": [],
   "source": [
    "#Provide the Subscription ID of your existing Azure subscription\n",
    "subscription_id = \"5781be4e-7862-42f9-8ae8-e879c711039b\" # <- needs to be the subscription within the Azure resource group for this lesson\n",
    "\n",
    "#Provide values for the existing Resource Group \n",
    "resource_group = \"aml-quickstarts-105801\" # <- enter the name of your Azure Resource Group\n",
    "\n",
    "#Provide the Workspace Name and Azure Region of the Azure Machine Learning Workspace\n",
    "workspace_name = \"quick-starts-ws-105801\" # <- enter the name of the Azure Machine Learning workspace\n",
    "workspace_region = \"eastus\" # <- region of your Azure Machine Learning workspace \n",
    "\n",
    "experiment_name = \"auto_clustering\""
   ]
  },
  {
   "cell_type": "markdown",
   "metadata": {},
   "source": [
    "# Connect Azure workspace "
   ]
  },
  {
   "cell_type": "code",
   "execution_count": 6,
   "metadata": {},
   "outputs": [
    {
     "name": "stdout",
     "output_type": "stream",
     "text": [
      "Workspace configuration succeeded\n"
     ]
    }
   ],
   "source": [
    "ws = Workspace.create(\n",
    "    name = workspace_name,\n",
    "    subscription_id = subscription_id,\n",
    "    resource_group = resource_group, \n",
    "    location = workspace_region,\n",
    "    exist_ok = True)\n",
    "\n",
    "ws.write_config()\n",
    "print('Workspace configuration succeeded')"
   ]
  },
  {
   "cell_type": "markdown",
   "metadata": {},
   "source": [
    "# Load data from datastore\n",
    "### Datastore was created by uploading local file"
   ]
  },
  {
   "cell_type": "code",
   "execution_count": 8,
   "metadata": {},
   "outputs": [],
   "source": [
    "datastore_name = 'workspaceblobstore'\n",
    "\n",
    "# get existing workspace\n",
    "workspace = Workspace.from_config()\n",
    "    \n",
    "# retrieve an existing datastore in the workspace by name\n",
    "datastore = Datastore.get(workspace, datastore_name)\n",
    "\n",
    "# create a TabularDataset from 3 file paths in datastore\n",
    "datastore_paths = [(datastore, 'UI/09-19-2020_014237_UTC/auto-miles-per-gallon.csv')]\n",
    "\n",
    "df = Dataset.Tabular.from_delimited_files(path=datastore_paths)"
   ]
  },
  {
   "cell_type": "markdown",
   "metadata": {},
   "source": [
    "# Convert to Pandas dataframe"
   ]
  },
  {
   "cell_type": "code",
   "execution_count": 9,
   "metadata": {},
   "outputs": [
    {
     "data": {
      "text/html": [
       "<div>\n",
       "<style scoped>\n",
       "    .dataframe tbody tr th:only-of-type {\n",
       "        vertical-align: middle;\n",
       "    }\n",
       "\n",
       "    .dataframe tbody tr th {\n",
       "        vertical-align: top;\n",
       "    }\n",
       "\n",
       "    .dataframe thead th {\n",
       "        text-align: right;\n",
       "    }\n",
       "</style>\n",
       "<table border=\"1\" class=\"dataframe\">\n",
       "  <thead>\n",
       "    <tr style=\"text-align: right;\">\n",
       "      <th></th>\n",
       "      <th>MPG</th>\n",
       "      <th>CYLINDERS</th>\n",
       "      <th>DISPLACEMENT</th>\n",
       "      <th>HORSEPOWER</th>\n",
       "      <th>WEIGHT</th>\n",
       "      <th>ACCELERATION</th>\n",
       "      <th>MODELYEAR</th>\n",
       "      <th>NAME</th>\n",
       "    </tr>\n",
       "  </thead>\n",
       "  <tbody>\n",
       "    <tr>\n",
       "      <th>0</th>\n",
       "      <td>18.0</td>\n",
       "      <td>8</td>\n",
       "      <td>307.0</td>\n",
       "      <td>130</td>\n",
       "      <td>3504</td>\n",
       "      <td>12.0</td>\n",
       "      <td>70</td>\n",
       "      <td>chevrolet chevelle malibu</td>\n",
       "    </tr>\n",
       "    <tr>\n",
       "      <th>1</th>\n",
       "      <td>15.0</td>\n",
       "      <td>8</td>\n",
       "      <td>350.0</td>\n",
       "      <td>165</td>\n",
       "      <td>3693</td>\n",
       "      <td>11.5</td>\n",
       "      <td>70</td>\n",
       "      <td>buick skylark 320</td>\n",
       "    </tr>\n",
       "    <tr>\n",
       "      <th>2</th>\n",
       "      <td>18.0</td>\n",
       "      <td>8</td>\n",
       "      <td>318.0</td>\n",
       "      <td>150</td>\n",
       "      <td>3436</td>\n",
       "      <td>11.0</td>\n",
       "      <td>70</td>\n",
       "      <td>plymouth satellite</td>\n",
       "    </tr>\n",
       "    <tr>\n",
       "      <th>3</th>\n",
       "      <td>16.0</td>\n",
       "      <td>8</td>\n",
       "      <td>304.0</td>\n",
       "      <td>150</td>\n",
       "      <td>3433</td>\n",
       "      <td>12.0</td>\n",
       "      <td>70</td>\n",
       "      <td>amc rebel sst</td>\n",
       "    </tr>\n",
       "    <tr>\n",
       "      <th>4</th>\n",
       "      <td>17.0</td>\n",
       "      <td>8</td>\n",
       "      <td>302.0</td>\n",
       "      <td>140</td>\n",
       "      <td>3449</td>\n",
       "      <td>10.5</td>\n",
       "      <td>70</td>\n",
       "      <td>ford torino</td>\n",
       "    </tr>\n",
       "  </tbody>\n",
       "</table>\n",
       "</div>"
      ],
      "text/plain": [
       "    MPG  CYLINDERS  DISPLACEMENT HORSEPOWER  WEIGHT  ACCELERATION  MODELYEAR  \\\n",
       "0  18.0          8         307.0        130    3504          12.0         70   \n",
       "1  15.0          8         350.0        165    3693          11.5         70   \n",
       "2  18.0          8         318.0        150    3436          11.0         70   \n",
       "3  16.0          8         304.0        150    3433          12.0         70   \n",
       "4  17.0          8         302.0        140    3449          10.5         70   \n",
       "\n",
       "                        NAME  \n",
       "0  chevrolet chevelle malibu  \n",
       "1          buick skylark 320  \n",
       "2         plymouth satellite  \n",
       "3              amc rebel sst  \n",
       "4                ford torino  "
      ]
     },
     "execution_count": 9,
     "metadata": {},
     "output_type": "execute_result"
    }
   ],
   "source": [
    "df = df.to_pandas_dataframe()\n",
    "df.head()"
   ]
  },
  {
   "cell_type": "code",
   "execution_count": 10,
   "metadata": {},
   "outputs": [
    {
     "name": "stdout",
     "output_type": "stream",
     "text": [
      "<class 'pandas.core.frame.DataFrame'>\n",
      "RangeIndex: 398 entries, 0 to 397\n",
      "Data columns (total 8 columns):\n",
      "MPG             398 non-null float64\n",
      "CYLINDERS       398 non-null int64\n",
      "DISPLACEMENT    398 non-null float64\n",
      "HORSEPOWER      398 non-null object\n",
      "WEIGHT          398 non-null int64\n",
      "ACCELERATION    398 non-null float64\n",
      "MODELYEAR       398 non-null int64\n",
      "NAME            398 non-null object\n",
      "dtypes: float64(3), int64(3), object(2)\n",
      "memory usage: 25.0+ KB\n"
     ]
    }
   ],
   "source": [
    "df.info()"
   ]
  },
  {
   "cell_type": "markdown",
   "metadata": {},
   "source": [
    "# Clean the HORSEPOWER column as there was some missing data with \"?\" sign"
   ]
  },
  {
   "cell_type": "code",
   "execution_count": 12,
   "metadata": {},
   "outputs": [],
   "source": [
    "df = df[df.HORSEPOWER != \"?\"]\n",
    "df[\"HORSEPOWER\"] = pd.to_numeric(df[\"HORSEPOWER\"])\n",
    "df = df.drop(\"NAME\", axis=1)"
   ]
  },
  {
   "cell_type": "markdown",
   "metadata": {},
   "source": [
    "# Start the experiment"
   ]
  },
  {
   "cell_type": "code",
   "execution_count": 30,
   "metadata": {},
   "outputs": [],
   "source": [
    "experiment = Experiment(workspace=ws, name=\"clustering-experiment\")"
   ]
  },
  {
   "cell_type": "markdown",
   "metadata": {},
   "source": [
    "# Hyperparameter tuning for KMeans clustering with Azure runs"
   ]
  },
  {
   "cell_type": "code",
   "execution_count": 31,
   "metadata": {},
   "outputs": [
    {
     "name": "stdout",
     "output_type": "stream",
     "text": [
      "2\n",
      "3\n",
      "4\n",
      "5\n",
      "6\n",
      "7\n",
      "8\n",
      "9\n",
      "10\n",
      "11\n"
     ]
    }
   ],
   "source": [
    "from azureml.core import Experiment\n",
    "experiment = Experiment(workspace=ws, name=\"clustering-experiment\")\n",
    "\n",
    "ss = StandardScaler()\n",
    "df = ss.fit_transform(df)\n",
    "\n",
    "k_values = range(2, 12)\n",
    "WSSSD = []\n",
    "for k in k_values:\n",
    "    print(k)\n",
    "    run = experiment.start_logging()\n",
    "    run.log(\"k_value\", k)\n",
    "    model = Pipeline(steps=[('preprocessor', StandardScaler()),\n",
    "                      ('clusterer', KMeans(n_clusters=k, n_jobs=-1))])\n",
    "    model.fit(df)\n",
    "    WSSSD.append(model.named_steps['clusterer'].inertia_)\n",
    "    run.log(\"WSSSD\", model.named_steps['clusterer'].inertia_)\n",
    "    model_name = \"model_k_\" + str(k) + \".pkl\"\n",
    "    filename = \"outputs/\" + model_name\n",
    "    \n",
    "    joblib.dump(value=model, filename=filename)\n",
    "    run.upload_file(name=model_name, path_or_stream=filename)\n",
    "    run.complete()"
   ]
  },
  {
   "cell_type": "markdown",
   "metadata": {},
   "source": [
    "# Elbow Plot"
   ]
  },
  {
   "cell_type": "code",
   "execution_count": 32,
   "metadata": {},
   "outputs": [
    {
     "data": {
      "text/html": [
       "[<matplotlib.lines.Line2D object at 0x7f82bfc40fd0>]"
      ],
      "text/plain": [
       "[<matplotlib.lines.Line2D at 0x7f82bfc40fd0>]"
      ]
     },
     "execution_count": 32,
     "metadata": {},
     "output_type": "execute_result"
    },
    {
     "data": {
      "image/png": "[encoded data removed]",
      "text/plain": [
       "<Figure size 432x288 with 1 Axes>"
      ]
     },
     "metadata": {
      "needs_background": "light"
     },
     "output_type": "display_data"
    }
   ],
   "source": [
    "plt.plot(k_values, WSSSD)"
   ]
  },
  {
   "cell_type": "markdown",
   "metadata": {},
   "source": [
    "### Best value found from Elbow Plot is 4. Lets consider the model having K = 4."
   ]
  },
  {
   "cell_type": "markdown",
   "metadata": {},
   "source": [
    "# Locate the best model that was trained (k = 4)"
   ]
  },
  {
   "cell_type": "code",
   "execution_count": 35,
   "metadata": {},
   "outputs": [],
   "source": [
    "import os\n",
    "\n",
    "model_folder = './outputs'\n",
    "model_file_name = 'model_k_4.pkl'\n",
    "model_path = os.path.join(model_folder, model_file_name)"
   ]
  },
  {
   "cell_type": "markdown",
   "metadata": {},
   "source": [
    "# Register Model\n",
    "\n",
    "Azure Machine Learning provides a Model Registry that acts like a version controlled repository for each of the trained models. "
   ]
  },
  {
   "cell_type": "code",
   "execution_count": 36,
   "metadata": {},
   "outputs": [
    {
     "name": "stdout",
     "output_type": "stream",
     "text": [
      "Registering model auto-clusterer\n",
      "\n",
      "Model registered: auto-clusterer \n",
      "Model Description: Automobile Cluster Predictor \n",
      "Model Version: 1\n"
     ]
    }
   ],
   "source": [
    "model = Model.register(model_path = model_path, # this points to a local file\n",
    "                       model_name = \"auto-clusterer\", # name the model is registered as\n",
    "                       tags = {'area': \"ml\", 'type': \"clustering\"}, \n",
    "                       description = \"Automobile Cluster Predictor\", \n",
    "                       workspace = ws)\n",
    "\n",
    "print()\n",
    "print(\"Model registered: {} \\nModel Description: {} \\nModel Version: {}\".format(model.name, \n",
    "                                                                                model.description, model.version))"
   ]
  },
  {
   "cell_type": "markdown",
   "metadata": {},
   "source": [
    "# Deploy the Model as a Web Service\n",
    "### Create the Scoring Script"
   ]
  },
  {
   "cell_type": "code",
   "execution_count": 38,
   "metadata": {},
   "outputs": [
    {
     "name": "stdout",
     "output_type": "stream",
     "text": [
      "Writing scoring_service.py\n"
     ]
    }
   ],
   "source": [
    "%%writefile scoring_service.py\n",
    "\n",
    "import json\n",
    "import numpy as np\n",
    "import pandas as pd\n",
    "import azureml.core\n",
    "import azureml.train.automl\n",
    "from azureml.core.model import Model\n",
    "import joblib\n",
    "\n",
    "columns = ['MPG', 'CYLINDERS', 'DISPLACEMENT', 'HORSEPOWER', 'WEIGHT',\n",
    "       'ACCELERATION', 'MODELYEAR']\n",
    "\n",
    "def init():\n",
    "    # One-time initialization of model and scaler\n",
    "    global model\n",
    "    \n",
    "    print(\"Azure ML SDK version:\", azureml.core.VERSION)\n",
    "    model_name = 'auto-clusterer'\n",
    "    print('Looking for model path for model: ', model_name)\n",
    "    model_path = Model.get_model_path(model_name=model_name)\n",
    "    print('Looking for model in: ', model_path)\n",
    "    model = joblib.load(model_path)\n",
    "    print('Model loaded...')\n",
    "\n",
    "def run(input_json):     \n",
    "    try:\n",
    "        inputs = json.loads(input_json)\n",
    "        data_df = pd.DataFrame(np.array(inputs).reshape(-1, len(columns)), columns = columns)\n",
    "        # Get the predictions...\n",
    "        prediction = model.predict(data_df)\n",
    "        prediction = json.dumps(prediction.tolist())\n",
    "    except Exception as e:\n",
    "        prediction = str(e)\n",
    "    return prediction"
   ]
  },
  {
   "cell_type": "markdown",
   "metadata": {},
   "source": [
    "# Environments\n",
    "### Azure ML environments are an encapsulation of the environment where the machine learning training happens.\n",
    "\n",
    "# Create and register your environment"
   ]
  },
  {
   "cell_type": "code",
   "execution_count": 41,
   "metadata": {},
   "outputs": [
    {
     "data": {
      "text/plain": [
       "{\n",
       "    \"databricks\": {\n",
       "        \"eggLibraries\": [],\n",
       "        \"jarLibraries\": [],\n",
       "        \"mavenLibraries\": [],\n",
       "        \"pypiLibraries\": [],\n",
       "        \"rcranLibraries\": []\n",
       "    },\n",
       "    \"docker\": {\n",
       "        \"arguments\": [],\n",
       "        \"baseDockerfile\": null,\n",
       "        \"baseImage\": \"mcr.microsoft.com/azureml/intelmpi2018.3-ubuntu16.04:20200723.v1\",\n",
       "        \"baseImageRegistry\": {\n",
       "            \"address\": null,\n",
       "            \"password\": null,\n",
       "            \"registryIdentity\": null,\n",
       "            \"username\": null\n",
       "        },\n",
       "        \"enabled\": false,\n",
       "        \"platform\": {\n",
       "            \"architecture\": \"amd64\",\n",
       "            \"os\": \"Linux\"\n",
       "        },\n",
       "        \"sharedVolumes\": true,\n",
       "        \"shmSize\": null\n",
       "    },\n",
       "    \"environmentVariables\": {\n",
       "        \"EXAMPLE_ENV_VAR\": \"EXAMPLE_VALUE\"\n",
       "    },\n",
       "    \"inferencingStackVersion\": null,\n",
       "    \"name\": \"myenv\",\n",
       "    \"python\": {\n",
       "        \"baseCondaEnvironment\": null,\n",
       "        \"condaDependencies\": {\n",
       "            \"channels\": [\n",
       "                \"anaconda\",\n",
       "                \"conda-forge\"\n",
       "            ],\n",
       "            \"dependencies\": [\n",
       "                \"python=3.6.2\",\n",
       "                {\n",
       "                    \"pip\": [\n",
       "                        \"azureml-train-automl-runtime==1.10.0\",\n",
       "                        \"inference-schema\",\n",
       "                        \"azureml-explain-model==1.10.0\",\n",
       "                        \"azureml-defaults==1.10.0\"\n",
       "                    ]\n",
       "                },\n",
       "                \"numpy>=1.16.0,<1.17.0\",\n",
       "                \"pandas>=0.21.0,<=0.23.4\",\n",
       "                \"scikit-learn>=0.19.0,<=0.20.3\",\n",
       "                \"py-xgboost<=0.90\",\n",
       "                \"fbprophet==0.5\",\n",
       "                \"psutil>=5.2.2,<6.0.0\",\n",
       "                \"joblib==0.15.1\"\n",
       "            ],\n",
       "            \"name\": \"azureml_7d0d978bf8fd0b296aef41b9ef9712d6\"\n",
       "        },\n",
       "        \"condaDependenciesFile\": null,\n",
       "        \"interpreterPath\": \"python\",\n",
       "        \"userManagedDependencies\": false\n",
       "    },\n",
       "    \"r\": null,\n",
       "    \"spark\": {\n",
       "        \"packages\": [],\n",
       "        \"precachePackages\": true,\n",
       "        \"repositories\": []\n",
       "    },\n",
       "    \"version\": \"1\"\n",
       "}"
      ]
     },
     "execution_count": 41,
     "metadata": {},
     "output_type": "execute_result"
    }
   ],
   "source": [
    "from azureml.core import Environment\n",
    "myEnv = Environment.from_conda_specification('myenv', './ml_dependencies.yml')\n",
    "myEnv.register(workspace=ws)"
   ]
  },
  {
   "cell_type": "markdown",
   "metadata": {},
   "source": [
    "# Deployment\n",
    "\n",
    "### Deploy as a web service."
   ]
  },
  {
   "cell_type": "code",
   "execution_count": 48,
   "metadata": {},
   "outputs": [],
   "source": [
    "from azureml.core.model import InferenceConfig\n",
    "from azureml.core.webservice import AciWebservice\n",
    "\n",
    "inference_config = InferenceConfig(entry_script='scoring_service.py', environment=myEnv)\n",
    "aci_config = AciWebservice.deploy_configuration(\n",
    "    cpu_cores = 1, \n",
    "    memory_gb = 1, \n",
    "    tags = {'name': 'aci-cluster'}, \n",
    "    description = 'Automobile Cluster Predictor')"
   ]
  },
  {
   "cell_type": "code",
   "execution_count": null,
   "metadata": {},
   "outputs": [],
   "source": [
    "from azureml.core import Webservice\n",
    "from azureml.exceptions import WebserviceException\n",
    "\n",
    "service_name = 'auto-cluster'\n",
    "\n",
    "# Remove any existing service under the same name.\n",
    "try:\n",
    "    Webservice(ws, service_name).delete()\n",
    "except WebserviceException:\n",
    "    pass\n",
    "\n",
    "webservice = Model.deploy(workspace=ws,\n",
    "                       name=service_name,\n",
    "                       models=[model],\n",
    "                       inference_config=inference_config,\n",
    "                       deployment_config=aci_config)\n",
    "webservice.wait_for_deployment(show_output=True)"
   ]
  },
  {
   "cell_type": "code",
   "execution_count": null,
   "metadata": {},
   "outputs": [],
   "source": []
  }
 ],
 "metadata": {
  "kernelspec": {
   "display_name": "Python 3.6 - AzureML",
   "language": "python",
   "name": "python3-azureml"
  },
  "language_info": {
   "codemirror_mode": {
    "name": "ipython",
    "version": 3
   },
   "file_extension": ".py",
   "mimetype": "text/x-python",
   "name": "python",
   "nbconvert_exporter": "python",
   "pygments_lexer": "ipython3",
   "version": "3.6.9"
  }
 },
 "nbformat": 4,
 "nbformat_minor": 4
}
