{
 "cells": [
  {
   "cell_type": "markdown",
   "metadata": {},
   "source": [
    "# Tests for working with images\n",
    "   \n",
    "   \n",
    "## The two different URLs\n",
    "   \n",
    "   \n",
    "https://github.com/NAVERGONI/MicrosoftML-ProjectShowcasing/blob/master/project/C%C3%A9cile%20N/images/sigmoid_function_equation.jpg\n",
    "\n",
    "https://raw.githubusercontent.com/NAVERGONI/MicrosoftML-ProjectShowcasing/master/project/C%C3%A9cile%20N/images/sigmoid_function_equation.jpg\n",
    "\n",
    "   \n",
    "## Use of the two different URLs in a notebook (that is here 😉 )\n",
    "   \n",
    "   \n",
    "### The github.com URL\n",
    "   \n",
    "   \n",
    "![github.com URL](https://github.com/NAVERGONI/MicrosoftML-ProjectShowcasing/blob/master/project/C%C3%A9cile%20N/images/sigmoid_function_equation.jpg)\n",
    "   \n",
    "   \n",
    "### The raw.githubusercontent.com URL\n",
    "   \n",
    "   \n",
    "![raw.githubusercontent.com URL](https://raw.githubusercontent.com/NAVERGONI/MicrosoftML-ProjectShowcasing/master/project/C%C3%A9cile%20N/images/sigmoid_function_equation.jpg)\n"
   ]
  },
  {
   "cell_type": "code",
   "execution_count": null,
   "metadata": {},
   "outputs": [],
   "source": []
  }
 ],
 "metadata": {
  "kernelspec": {
   "display_name": "Python 3",
   "language": "python",
   "name": "python3"
  },
  "language_info": {
   "codemirror_mode": {
    "name": "ipython",
    "version": 3
   },
   "file_extension": ".py",
   "mimetype": "text/x-python",
   "name": "python",
   "nbconvert_exporter": "python",
   "pygments_lexer": "ipython3",
   "version": "3.7.6"
  }
 },
 "nbformat": 4,
 "nbformat_minor": 4
}
