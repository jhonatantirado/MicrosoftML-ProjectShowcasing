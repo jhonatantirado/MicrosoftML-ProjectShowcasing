{
 "cells": [
  {
   "cell_type": "markdown",
   "metadata": {},
   "source": [
    "# Boost your results - Find the best model\n",
    "\n",
    "## How can we boost our results ?\n",
    "\n",
    "❗️❗️❗️ under construction ❗️❗️❗️\n",
    "  - ensemble learning\n",
    "  \n",
    "  explain what is ensemble learning\n",
    "  \n",
    "  - ensemble methods :\n",
    "    - boosting\n",
    "    - bagging\n",
    "    - stacking\n",
    "\n",
    "## How can we find the best model ?\n",
    "\n",
    "  explain hyperparameters\n",
    "  \n",
    "  - grid search\n",
    "  \n",
    "  - k-fold cross-validation\n",
    "\n",
    "❗️❗️❗️ to be continued ❗️❗️❗️"
   ]
  }
 ],
 "metadata": {
  "kernelspec": {
   "display_name": "Python 3",
   "language": "python",
   "name": "python3"
  },
  "language_info": {
   "codemirror_mode": {
    "name": "ipython",
    "version": 3
   },
   "file_extension": ".py",
   "mimetype": "text/x-python",
   "name": "python",
   "nbconvert_exporter": "python",
   "pygments_lexer": "ipython3",
   "version": "3.7.6"
  }
 },
 "nbformat": 4,
 "nbformat_minor": 4
}
