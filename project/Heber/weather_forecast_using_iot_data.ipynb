{
  "nbformat": 4,
  "nbformat_minor": 0,
  "metadata": {
    "colab": {
      "name": "weather-forecast-using-iot-data.ipynb",
      "provenance": [],
      "collapsed_sections": [
        "V_05JzHEQfF9",
        "vc-29x4fj_7S",
        "kQ9wOrhwlbvv",
        "xg3stvX5vEqH",
        "fa12w1LCvKLD",
        "NWmeKmp-0EGH",
        "zMYmL2m97Bkc",
        "PgXO1AWw7Npa",
        "di_QvSS-7ZSM",
        "6g0b9uDu9zoj",
        "e0Cd3rXe-A4S",
        "RjaauUYP-IE9",
        "JQg9nd_0-pwH",
        "lIIPuX1b_Pz4",
        "PV4FgEsN_4bc",
        "ksr45oEJ_i0s",
        "y9wg0cuVWWcQ",
        "1cVc4V8VXC65"
      ],
      "toc_visible": true,
      "authorship_tag": "ABX9TyPrLjZd7+wd9oF50S2JnoUQ",
      "include_colab_link": true
    },
    "kernelspec": {
      "name": "python3",
      "display_name": "Python 3"
    }
  },
  "cells": [
    {
      "cell_type": "markdown",
      "metadata": {
        "id": "view-in-github",
        "colab_type": "text"
      },
      "source": [
        "<a href=\"https://colab.research.google.com/github/heber-augusto/weather-forecast/blob/master/weather_forecast_using_iot_data.ipynb\" target=\"_parent\"><img src=\"https://colab.research.google.com/assets/colab-badge.svg\" alt=\"Open In Colab\"/></a>"
      ]
    },
    {
      "cell_type": "markdown",
      "metadata": {
        "id": "UF4oyzEkQiPY",
        "colab_type": "text"
      },
      "source": [
        "# Wheather forecast using iot data\n",
        "The goal from this project is to evaluate how temperature and humidity sensors from a datacenter is good for predicting rain precipitation.\n",
        "\n",
        "This notebook demonstrates some important steps in real data science projects and is divided in the folowwing parts:\n",
        "\n",
        " 1. Collecting the data;\n",
        " 2. Preparing the data;\n",
        " 3. Feature Engineering and analysis;\n",
        " 4. Model training;\n",
        " 5. Results.\n",
        "\n"
      ]
    },
    {
      "cell_type": "code",
      "metadata": {
        "id": "4P0rRCEdhSuz",
        "colab_type": "code",
        "colab": {}
      },
      "source": [
        "import pandas as pd\n",
        "import numpy as np\n",
        "\n",
        "from pandas.tseries.offsets import MonthEnd\n",
        "\n",
        "import requests\n",
        "import base64\n",
        "import json\n",
        "from getpass import getpass\n",
        "from datetime import datetime, timedelta\n",
        "\n",
        "import matplotlib.pylab as plt\n",
        "from sklearn.ensemble import RandomForestClassifier\n",
        "import seaborn as sns\n",
        "\n"
      ],
      "execution_count": 299,
      "outputs": []
    },
    {
      "cell_type": "markdown",
      "metadata": {
        "id": "V_05JzHEQfF9",
        "colab_type": "text"
      },
      "source": [
        "# Collecting the data\n",
        "The data collection is divided in:\n",
        "1. Obtaining a token from the REST API;\n",
        "2. Using the token to obtain data;\n",
        "3. Creating a dataframe with all the data."
      ]
    },
    {
      "cell_type": "markdown",
      "metadata": {
        "id": "vc-29x4fj_7S",
        "colab_type": "text"
      },
      "source": [
        "## 1.Obtaining a token from the REST API;"
      ]
    },
    {
      "cell_type": "code",
      "metadata": {
        "id": "THkBPoB9hUSz",
        "colab_type": "code",
        "colab": {
          "base_uri": "https://localhost:8080/",
          "height": 54
        },
        "outputId": "7128ed9e-4233-44a3-9189-430218fb81b2"
      },
      "source": [
        "# get user and password without showing\n",
        "base  = \"https://api.telemetria.hitecnologia.com.br/rest/v1/\"\n",
        "user = getpass('Enter the user name: ')\n",
        "pwd  = getpass('Enter the secret value: ')"
      ],
      "execution_count": null,
      "outputs": [
        {
          "output_type": "stream",
          "text": [
            "Enter the user name: ··········\n",
            "Enter the secret value: ··········\n"
          ],
          "name": "stdout"
        }
      ]
    },
    {
      "cell_type": "code",
      "metadata": {
        "id": "WON1vnVwBiHz",
        "colab_type": "code",
        "colab": {}
      },
      "source": [
        "# encode password into base64\n",
        "p=base64.b64encode(pwd.encode())\n",
        "pwd=p.decode()\n",
        "url='{}/auth/login/'.format(base)\n",
        "headers={\n",
        "    \"Content-Type\": \"application/json\", \n",
        "    \"Accept\": \"application/json\"\n",
        "}\n",
        "data={\n",
        "    \"email\":\"{}\".format(user),\n",
        "    \"password\":\"{}\".format(pwd)\n",
        "}\n",
        "\n",
        "# request token\n",
        "response = requests.post(\n",
        "    url=url,\n",
        "    data=json.dumps(data), \n",
        "    headers=headers\n",
        ")\n",
        "result = json.loads(response.text)"
      ],
      "execution_count": null,
      "outputs": []
    },
    {
      "cell_type": "code",
      "metadata": {
        "id": "-UFESQaTk7Q0",
        "colab_type": "code",
        "colab": {}
      },
      "source": [
        "access_token = result[\"token\"]"
      ],
      "execution_count": null,
      "outputs": []
    },
    {
      "cell_type": "markdown",
      "metadata": {
        "id": "kQ9wOrhwlbvv",
        "colab_type": "text"
      },
      "source": [
        "## 2.Using the token to obtain data for each month;\n",
        "\n",
        "This process is divided in:\n",
        "\n",
        "1. mounting lists with start and end from each 30 days interval;\n",
        "2. getting values for each 30 days.\n",
        "\n",
        "This is needed because the REST api limits the results from history endpoint in a 30 days interval."
      ]
    },
    {
      "cell_type": "markdown",
      "metadata": {
        "id": "xg3stvX5vEqH",
        "colab_type": "text"
      },
      "source": [
        "### Monting lists with start and end from each 30 days"
      ]
    },
    {
      "cell_type": "code",
      "metadata": {
        "id": "KDRd4pvwnJUV",
        "colab_type": "code",
        "colab": {}
      },
      "source": [
        "start_dates = pd.date_range('2017-01-01',datetime.now().strftime(\"%Y-%b\"), \n",
        "              freq='30D').strftime(\"%Y-%m-%dT00:00:00-03:00\").to_list()\n",
        "\n",
        "end_dates = (pd.date_range('2017-01-30',datetime.now().strftime(\"%Y-%b\"), \n",
        "              freq='30D')).strftime(\"%Y-%m-%dT23:59:59-03:00\").to_list()\n",
        "\n",
        "if len(start_dates) > len(end_dates):\n",
        "    end_dates.append(datetime.now().strftime(\"%Y-%m-%dT23:59:59-03:00\"))\n",
        "\n",
        "  "
      ],
      "execution_count": 72,
      "outputs": []
    },
    {
      "cell_type": "markdown",
      "metadata": {
        "id": "fa12w1LCvKLD",
        "colab_type": "text"
      },
      "source": [
        "### Getting values for each 30 days."
      ]
    },
    {
      "cell_type": "code",
      "metadata": {
        "id": "ryj8DxpjuWse",
        "colab_type": "code",
        "colab": {}
      },
      "source": [
        "all_months_list = []\n",
        "for index, start in enumerate(start_dates):\n",
        "    end = end_dates[index]\n",
        "    # format url to call rest api\n",
        "    data_ids = '128,129'\n",
        "    history_url = f'{base}data_history/?format=json&data_ids={data_ids}&start={start}&end={end}'\n",
        "\n",
        "    header={\n",
        "        \"Content-Type\": \"application/json\", \n",
        "        \"Accept\": \"application/json\",\n",
        "        \"Authorization\":\"Bearer {0}\".format(access_token),\n",
        "    }\n",
        "\n",
        "    # get temperature and humidity sensor values from last 30 days\n",
        "    response = requests.get(history_url, headers=header)\n",
        "    all_months_list.append(pd.read_json(response.text))\n"
      ],
      "execution_count": 73,
      "outputs": []
    },
    {
      "cell_type": "markdown",
      "metadata": {
        "id": "SASYmTRHwB_z",
        "colab_type": "text"
      },
      "source": [
        "## Creating a dataframe with all the data."
      ]
    },
    {
      "cell_type": "code",
      "metadata": {
        "id": "kUY2MZR4v8yd",
        "colab_type": "code",
        "colab": {}
      },
      "source": [
        "concat_result = pd.concat(all_months_list, axis = 0)\n",
        "concat_result.to_csv('sensors.csv')"
      ],
      "execution_count": 76,
      "outputs": []
    },
    {
      "cell_type": "markdown",
      "metadata": {
        "id": "NWmeKmp-0EGH",
        "colab_type": "text"
      },
      "source": [
        "# Preparing the data\n",
        "The Preparing the data is divided in:\n",
        "\n",
        "1. Grouping data by data id to separate data into columns;\n",
        "2. Resampling 1 hour considering the mean;\n",
        "3. Creating the dataset with temperature and humidity mean for each hour;\n",
        "4. Creating one line for each date and one column for each hour;\n",
        "5. Putting it together with the output.\n"
      ]
    },
    {
      "cell_type": "markdown",
      "metadata": {
        "id": "zMYmL2m97Bkc",
        "colab_type": "text"
      },
      "source": [
        "## Grouping data by data id to separate data into columns\n",
        "This is necessary because the data is returned with only 3 columns: data_id, value and datetime"
      ]
    },
    {
      "cell_type": "code",
      "metadata": {
        "id": "LOQ6-ai7oHqY",
        "colab_type": "code",
        "colab": {}
      },
      "source": [
        "# use the following line if you don´t want to collect data \n",
        "#concat_result = pd.read_csv('sensors.csv')\n",
        "\n",
        "grouped = concat_result.groupby('data_id')\n"
      ],
      "execution_count": 78,
      "outputs": []
    },
    {
      "cell_type": "markdown",
      "metadata": {
        "id": "PgXO1AWw7Npa",
        "colab_type": "text"
      },
      "source": [
        "## Resampling 1 hour considering the mean\n",
        "Consider the mean value and resample to 1 hour"
      ]
    },
    {
      "cell_type": "code",
      "metadata": {
        "id": "ycJaZ4eq3Rpx",
        "colab_type": "code",
        "colab": {}
      },
      "source": [
        "temp_group = grouped.get_group(128)\n",
        "temp_group = temp_group.rename(columns={\"value\": \"temperature\"})\n",
        "temp_group.index = temp_group['date_time']\n",
        "temp_group = temp_group[['temperature']]\n",
        "temp_group = temp_group.resample('1H').mean()\n",
        "\n",
        "humi_group = grouped.get_group(129)\n",
        "humi_group = humi_group.rename(columns={\"value\": \"humidity\"})\n",
        "humi_group.index = humi_group['date_time']\n",
        "humi_group = humi_group[['humidity']]\n",
        "humi_group = humi_group.resample('1H').mean()"
      ],
      "execution_count": 81,
      "outputs": []
    },
    {
      "cell_type": "markdown",
      "metadata": {
        "id": "di_QvSS-7ZSM",
        "colab_type": "text"
      },
      "source": [
        "## Creating the dataset with temperature and humidity mean for each hour\n",
        "\n",
        "Concatenate considering axis = 1 in order to create two columns"
      ]
    },
    {
      "cell_type": "code",
      "metadata": {
        "id": "Rcpa2EeT3Tjk",
        "colab_type": "code",
        "colab": {}
      },
      "source": [
        "dataset = pd.concat([temp_group, humi_group], axis = 1)"
      ],
      "execution_count": 82,
      "outputs": []
    },
    {
      "cell_type": "markdown",
      "metadata": {
        "id": "6g0b9uDu9zoj",
        "colab_type": "text"
      },
      "source": [
        "## Creating one line for each date and one column for each hour\n",
        "This is divided in:\n",
        "1. Create two new columns (hour and date);\n",
        "2. Group the dataframe by date;\n",
        "3. Create columns for each hour;\n",
        "4. Rename columns and create the final dataset."
      ]
    },
    {
      "cell_type": "markdown",
      "metadata": {
        "id": "e0Cd3rXe-A4S",
        "colab_type": "text"
      },
      "source": [
        "### Create two new columns (hour and date)"
      ]
    },
    {
      "cell_type": "code",
      "metadata": {
        "id": "MbDR5F4p4Bwz",
        "colab_type": "code",
        "colab": {}
      },
      "source": [
        "dataset['hour'] = dataset.index.hour\n",
        "dataset['date']  = dataset.index.date"
      ],
      "execution_count": 116,
      "outputs": []
    },
    {
      "cell_type": "markdown",
      "metadata": {
        "id": "RjaauUYP-IE9",
        "colab_type": "text"
      },
      "source": [
        "### Group the dataframe by date"
      ]
    },
    {
      "cell_type": "code",
      "metadata": {
        "id": "XK3dTowh6t_x",
        "colab_type": "code",
        "colab": {}
      },
      "source": [
        "df = dataset.groupby(['date',])"
      ],
      "execution_count": 146,
      "outputs": []
    },
    {
      "cell_type": "markdown",
      "metadata": {
        "id": "JQg9nd_0-pwH",
        "colab_type": "text"
      },
      "source": [
        "### Create columns for each hour"
      ]
    },
    {
      "cell_type": "code",
      "metadata": {
        "id": "RSaa_dN--edm",
        "colab_type": "code",
        "colab": {
          "base_uri": "https://localhost:8080/",
          "height": 74
        },
        "outputId": "16004d1b-2662-49f8-ff90-222201089f25"
      },
      "source": [
        "columns_df = df['temperature','humidity'].apply(\n",
        "    lambda df: df.reset_index(drop=True)).unstack()\n"
      ],
      "execution_count": 150,
      "outputs": [
        {
          "output_type": "stream",
          "text": [
            "/usr/local/lib/python3.6/dist-packages/ipykernel_launcher.py:1: FutureWarning: Indexing with multiple keys (implicitly converted to a tuple of keys) will be deprecated, use a list instead.\n",
            "  \"\"\"Entry point for launching an IPython kernel.\n"
          ],
          "name": "stderr"
        }
      ]
    },
    {
      "cell_type": "markdown",
      "metadata": {
        "id": "lIIPuX1b_Pz4",
        "colab_type": "text"
      },
      "source": [
        "### Rename columns and create the final dataset"
      ]
    },
    {
      "cell_type": "code",
      "metadata": {
        "id": "kPKsFXBn-z1r",
        "colab_type": "code",
        "colab": {}
      },
      "source": [
        "columns = [f'temperature_{hour}' for hour in range(24)] + \\\n",
        "  [f'humidity_{hour}' for hour in range(24)]\n",
        "final_df = pd.DataFrame(columns_df.values,index=columns_df.index, columns=columns)"
      ],
      "execution_count": 151,
      "outputs": []
    },
    {
      "cell_type": "markdown",
      "metadata": {
        "id": "PV4FgEsN_4bc",
        "colab_type": "text"
      },
      "source": [
        "## Putting it together with the output."
      ]
    },
    {
      "cell_type": "code",
      "metadata": {
        "id": "TxM1GEpW_zak",
        "colab_type": "code",
        "colab": {}
      },
      "source": [
        "# some useful options were used here:\n",
        "# 1. skip the first 8 lines (containing header);\n",
        "# 2. ; as column separator;\n",
        "# 3. , as decimal separator.\n",
        "\n",
        "agritempo = pd.read_csv(\n",
        "    'agritempo.csv',\n",
        "    sep=';',\n",
        "    skiprows=8,\n",
        "    decimal=\",\",\n",
        "    skipinitialspace=True)\n",
        "\n",
        "# remove white spaces from column names\n",
        "agritempo = agritempo.rename(columns=lambda x: x.strip())\n",
        "agritempo.index = pd.to_datetime(agritempo['data'], format='%d/%m/%Y')\n",
        "output = agritempo[['precipitacao']]\n",
        "output.index.name = 'date'"
      ],
      "execution_count": 287,
      "outputs": []
    },
    {
      "cell_type": "code",
      "metadata": {
        "id": "XHjsCCWoDirC",
        "colab_type": "code",
        "colab": {}
      },
      "source": [
        "dataset  = pd.concat([final_df, output.sort_index()], axis=1)\n",
        "dataset.index = pd.to_datetime(dataset.index, format='%Y-%m-%d')\n",
        "dataset.loc[:,'precipitacao_next'] = dataset['precipitacao'].shift(-1)\n",
        "dataset['target'] = 0\n",
        "dataset.loc[dataset['precipitacao_next'] > 0, ['target']] = 1"
      ],
      "execution_count": 289,
      "outputs": []
    },
    {
      "cell_type": "markdown",
      "metadata": {
        "id": "ksr45oEJ_i0s",
        "colab_type": "text"
      },
      "source": [
        "# Feature Engineering\n",
        "Some simple operations here:\n",
        "1. Calculate daily mean for temperature and humidity;\n",
        "2. Set mean daily value into nan temperature and humidity values;\n",
        "3. Create 'quarter','month','year','weekday' for each date;\n",
        "4. Drop date column and rows with nan values."
      ]
    },
    {
      "cell_type": "code",
      "metadata": {
        "id": "z2i796cW_WVr",
        "colab_type": "code",
        "colab": {
          "base_uri": "https://localhost:8080/",
          "height": 1000
        },
        "outputId": "950e749b-1221-45de-e983-7d207d0028c7"
      },
      "source": [
        "#check number of nan values \n",
        "dataset.info()\n"
      ],
      "execution_count": 290,
      "outputs": [
        {
          "output_type": "stream",
          "text": [
            "<class 'pandas.core.frame.DataFrame'>\n",
            "DatetimeIndex: 1359 entries, 2017-01-01 to 2020-09-20\n",
            "Data columns (total 51 columns):\n",
            " #   Column             Non-Null Count  Dtype  \n",
            "---  ------             --------------  -----  \n",
            " 0   temperature_0      1324 non-null   float64\n",
            " 1   temperature_1      1323 non-null   float64\n",
            " 2   temperature_2      1322 non-null   float64\n",
            " 3   temperature_3      1321 non-null   float64\n",
            " 4   temperature_4      1320 non-null   float64\n",
            " 5   temperature_5      1322 non-null   float64\n",
            " 6   temperature_6      1323 non-null   float64\n",
            " 7   temperature_7      1324 non-null   float64\n",
            " 8   temperature_8      1323 non-null   float64\n",
            " 9   temperature_9      1322 non-null   float64\n",
            " 10  temperature_10     1321 non-null   float64\n",
            " 11  temperature_11     1323 non-null   float64\n",
            " 12  temperature_12     1325 non-null   float64\n",
            " 13  temperature_13     1327 non-null   float64\n",
            " 14  temperature_14     1329 non-null   float64\n",
            " 15  temperature_15     1327 non-null   float64\n",
            " 16  temperature_16     1328 non-null   float64\n",
            " 17  temperature_17     1327 non-null   float64\n",
            " 18  temperature_18     1323 non-null   float64\n",
            " 19  temperature_19     1325 non-null   float64\n",
            " 20  temperature_20     1326 non-null   float64\n",
            " 21  temperature_21     1327 non-null   float64\n",
            " 22  temperature_22     1325 non-null   float64\n",
            " 23  temperature_23     1324 non-null   float64\n",
            " 24  humidity_0         1324 non-null   float64\n",
            " 25  humidity_1         1323 non-null   float64\n",
            " 26  humidity_2         1322 non-null   float64\n",
            " 27  humidity_3         1321 non-null   float64\n",
            " 28  humidity_4         1320 non-null   float64\n",
            " 29  humidity_5         1322 non-null   float64\n",
            " 30  humidity_6         1323 non-null   float64\n",
            " 31  humidity_7         1324 non-null   float64\n",
            " 32  humidity_8         1323 non-null   float64\n",
            " 33  humidity_9         1322 non-null   float64\n",
            " 34  humidity_10        1321 non-null   float64\n",
            " 35  humidity_11        1323 non-null   float64\n",
            " 36  humidity_12        1325 non-null   float64\n",
            " 37  humidity_13        1327 non-null   float64\n",
            " 38  humidity_14        1329 non-null   float64\n",
            " 39  humidity_15        1327 non-null   float64\n",
            " 40  humidity_16        1328 non-null   float64\n",
            " 41  humidity_17        1327 non-null   float64\n",
            " 42  humidity_18        1323 non-null   float64\n",
            " 43  humidity_19        1325 non-null   float64\n",
            " 44  humidity_20        1326 non-null   float64\n",
            " 45  humidity_21        1327 non-null   float64\n",
            " 46  humidity_22        1325 non-null   float64\n",
            " 47  humidity_23        1324 non-null   float64\n",
            " 48  precipitacao       1342 non-null   float64\n",
            " 49  precipitacao_next  1341 non-null   float64\n",
            " 50  target             1359 non-null   int64  \n",
            "dtypes: float64(50), int64(1)\n",
            "memory usage: 552.1 KB\n"
          ],
          "name": "stdout"
        }
      ]
    },
    {
      "cell_type": "markdown",
      "metadata": {
        "id": "peVYfFQ-NP7d",
        "colab_type": "text"
      },
      "source": [
        "## Calculate daily mean for temperature and humidity"
      ]
    },
    {
      "cell_type": "code",
      "metadata": {
        "id": "rekOxwg7Mvoa",
        "colab_type": "code",
        "colab": {}
      },
      "source": [
        "temp_columns = [col for col in dataset.columns if 'temperature' in col]\n",
        "dataset['temp_mean'] = dataset[temp_columns].mean(axis=1)\n",
        "\n",
        "humi_columns = [col for col in dataset.columns if 'humidity' in col]\n",
        "dataset['humi_mean'] = dataset[humi_columns].mean(axis=1)\n"
      ],
      "execution_count": 291,
      "outputs": []
    },
    {
      "cell_type": "markdown",
      "metadata": {
        "id": "T4x8k5H6PJod",
        "colab_type": "text"
      },
      "source": [
        "## Set mean daily value into nan temperature and humidity values"
      ]
    },
    {
      "cell_type": "code",
      "metadata": {
        "id": "NNdS-sCpOJ_Z",
        "colab_type": "code",
        "colab": {}
      },
      "source": [
        "for column in temp_columns:\n",
        "    dataset[column] = dataset[column].fillna(dataset['temp_mean'])\n",
        "for column in humi_columns:\n",
        "    dataset[column] = dataset[column].fillna(dataset['humi_mean'])\n"
      ],
      "execution_count": 292,
      "outputs": []
    },
    {
      "cell_type": "code",
      "metadata": {
        "id": "K28bTkJZPS2m",
        "colab_type": "code",
        "colab": {
          "base_uri": "https://localhost:8080/",
          "height": 1000
        },
        "outputId": "5cf3d16f-5388-4cb8-c6f9-29870d453b2b"
      },
      "source": [
        "dataset.info()"
      ],
      "execution_count": 293,
      "outputs": [
        {
          "output_type": "stream",
          "text": [
            "<class 'pandas.core.frame.DataFrame'>\n",
            "DatetimeIndex: 1359 entries, 2017-01-01 to 2020-09-20\n",
            "Data columns (total 53 columns):\n",
            " #   Column             Non-Null Count  Dtype  \n",
            "---  ------             --------------  -----  \n",
            " 0   temperature_0      1337 non-null   float64\n",
            " 1   temperature_1      1337 non-null   float64\n",
            " 2   temperature_2      1337 non-null   float64\n",
            " 3   temperature_3      1337 non-null   float64\n",
            " 4   temperature_4      1337 non-null   float64\n",
            " 5   temperature_5      1337 non-null   float64\n",
            " 6   temperature_6      1337 non-null   float64\n",
            " 7   temperature_7      1337 non-null   float64\n",
            " 8   temperature_8      1337 non-null   float64\n",
            " 9   temperature_9      1337 non-null   float64\n",
            " 10  temperature_10     1337 non-null   float64\n",
            " 11  temperature_11     1337 non-null   float64\n",
            " 12  temperature_12     1337 non-null   float64\n",
            " 13  temperature_13     1337 non-null   float64\n",
            " 14  temperature_14     1337 non-null   float64\n",
            " 15  temperature_15     1337 non-null   float64\n",
            " 16  temperature_16     1337 non-null   float64\n",
            " 17  temperature_17     1337 non-null   float64\n",
            " 18  temperature_18     1337 non-null   float64\n",
            " 19  temperature_19     1337 non-null   float64\n",
            " 20  temperature_20     1337 non-null   float64\n",
            " 21  temperature_21     1337 non-null   float64\n",
            " 22  temperature_22     1337 non-null   float64\n",
            " 23  temperature_23     1337 non-null   float64\n",
            " 24  humidity_0         1337 non-null   float64\n",
            " 25  humidity_1         1337 non-null   float64\n",
            " 26  humidity_2         1337 non-null   float64\n",
            " 27  humidity_3         1337 non-null   float64\n",
            " 28  humidity_4         1337 non-null   float64\n",
            " 29  humidity_5         1337 non-null   float64\n",
            " 30  humidity_6         1337 non-null   float64\n",
            " 31  humidity_7         1337 non-null   float64\n",
            " 32  humidity_8         1337 non-null   float64\n",
            " 33  humidity_9         1337 non-null   float64\n",
            " 34  humidity_10        1337 non-null   float64\n",
            " 35  humidity_11        1337 non-null   float64\n",
            " 36  humidity_12        1337 non-null   float64\n",
            " 37  humidity_13        1337 non-null   float64\n",
            " 38  humidity_14        1337 non-null   float64\n",
            " 39  humidity_15        1337 non-null   float64\n",
            " 40  humidity_16        1337 non-null   float64\n",
            " 41  humidity_17        1337 non-null   float64\n",
            " 42  humidity_18        1337 non-null   float64\n",
            " 43  humidity_19        1337 non-null   float64\n",
            " 44  humidity_20        1337 non-null   float64\n",
            " 45  humidity_21        1337 non-null   float64\n",
            " 46  humidity_22        1337 non-null   float64\n",
            " 47  humidity_23        1337 non-null   float64\n",
            " 48  precipitacao       1342 non-null   float64\n",
            " 49  precipitacao_next  1341 non-null   float64\n",
            " 50  target             1359 non-null   int64  \n",
            " 51  temp_mean          1337 non-null   float64\n",
            " 52  humi_mean          1337 non-null   float64\n",
            "dtypes: float64(52), int64(1)\n",
            "memory usage: 573.3 KB\n"
          ],
          "name": "stdout"
        }
      ]
    },
    {
      "cell_type": "markdown",
      "metadata": {
        "id": "WtH4NXw1PaC0",
        "colab_type": "text"
      },
      "source": [
        "## Create 'quarter','month','year','weekday' for each date"
      ]
    },
    {
      "cell_type": "code",
      "metadata": {
        "id": "vfAc-b0_zLc-",
        "colab_type": "code",
        "colab": {
          "base_uri": "https://localhost:8080/",
          "height": 437
        },
        "outputId": "bfe2a965-c312-4d0e-b11a-d3a9993e8bd0"
      },
      "source": [
        "def create_features(df):\n",
        "    \"\"\"\n",
        "    Creates time series features from datetime index\n",
        "    \"\"\"\n",
        "    df['quarter'] = df['date'].dt.quarter\n",
        "    df['month'] = df['date'].dt.month\n",
        "    df['year'] = df['date'].dt.year\n",
        "    df['weekday'] = df['date'].dt.weekday    \n",
        "    X = df[['quarter','month','year','weekday']]\n",
        "    return X\n",
        "\n",
        "# create new column to add\n",
        "dataset['date'] = dataset.index\n",
        "create_features(dataset)\n"
      ],
      "execution_count": 294,
      "outputs": [
        {
          "output_type": "execute_result",
          "data": {
            "text/html": [
              "<div>\n",
              "<style scoped>\n",
              "    .dataframe tbody tr th:only-of-type {\n",
              "        vertical-align: middle;\n",
              "    }\n",
              "\n",
              "    .dataframe tbody tr th {\n",
              "        vertical-align: top;\n",
              "    }\n",
              "\n",
              "    .dataframe thead th {\n",
              "        text-align: right;\n",
              "    }\n",
              "</style>\n",
              "<table border=\"1\" class=\"dataframe\">\n",
              "  <thead>\n",
              "    <tr style=\"text-align: right;\">\n",
              "      <th></th>\n",
              "      <th>quarter</th>\n",
              "      <th>month</th>\n",
              "      <th>year</th>\n",
              "      <th>weekday</th>\n",
              "    </tr>\n",
              "    <tr>\n",
              "      <th>date</th>\n",
              "      <th></th>\n",
              "      <th></th>\n",
              "      <th></th>\n",
              "      <th></th>\n",
              "    </tr>\n",
              "  </thead>\n",
              "  <tbody>\n",
              "    <tr>\n",
              "      <th>2017-01-01</th>\n",
              "      <td>1</td>\n",
              "      <td>1</td>\n",
              "      <td>2017</td>\n",
              "      <td>6</td>\n",
              "    </tr>\n",
              "    <tr>\n",
              "      <th>2017-01-02</th>\n",
              "      <td>1</td>\n",
              "      <td>1</td>\n",
              "      <td>2017</td>\n",
              "      <td>0</td>\n",
              "    </tr>\n",
              "    <tr>\n",
              "      <th>2017-01-03</th>\n",
              "      <td>1</td>\n",
              "      <td>1</td>\n",
              "      <td>2017</td>\n",
              "      <td>1</td>\n",
              "    </tr>\n",
              "    <tr>\n",
              "      <th>2017-01-04</th>\n",
              "      <td>1</td>\n",
              "      <td>1</td>\n",
              "      <td>2017</td>\n",
              "      <td>2</td>\n",
              "    </tr>\n",
              "    <tr>\n",
              "      <th>2017-01-05</th>\n",
              "      <td>1</td>\n",
              "      <td>1</td>\n",
              "      <td>2017</td>\n",
              "      <td>3</td>\n",
              "    </tr>\n",
              "    <tr>\n",
              "      <th>...</th>\n",
              "      <td>...</td>\n",
              "      <td>...</td>\n",
              "      <td>...</td>\n",
              "      <td>...</td>\n",
              "    </tr>\n",
              "    <tr>\n",
              "      <th>2020-09-16</th>\n",
              "      <td>3</td>\n",
              "      <td>9</td>\n",
              "      <td>2020</td>\n",
              "      <td>2</td>\n",
              "    </tr>\n",
              "    <tr>\n",
              "      <th>2020-09-17</th>\n",
              "      <td>3</td>\n",
              "      <td>9</td>\n",
              "      <td>2020</td>\n",
              "      <td>3</td>\n",
              "    </tr>\n",
              "    <tr>\n",
              "      <th>2020-09-18</th>\n",
              "      <td>3</td>\n",
              "      <td>9</td>\n",
              "      <td>2020</td>\n",
              "      <td>4</td>\n",
              "    </tr>\n",
              "    <tr>\n",
              "      <th>2020-09-19</th>\n",
              "      <td>3</td>\n",
              "      <td>9</td>\n",
              "      <td>2020</td>\n",
              "      <td>5</td>\n",
              "    </tr>\n",
              "    <tr>\n",
              "      <th>2020-09-20</th>\n",
              "      <td>3</td>\n",
              "      <td>9</td>\n",
              "      <td>2020</td>\n",
              "      <td>6</td>\n",
              "    </tr>\n",
              "  </tbody>\n",
              "</table>\n",
              "<p>1359 rows × 4 columns</p>\n",
              "</div>"
            ],
            "text/plain": [
              "            quarter  month  year  weekday\n",
              "date                                     \n",
              "2017-01-01        1      1  2017        6\n",
              "2017-01-02        1      1  2017        0\n",
              "2017-01-03        1      1  2017        1\n",
              "2017-01-04        1      1  2017        2\n",
              "2017-01-05        1      1  2017        3\n",
              "...             ...    ...   ...      ...\n",
              "2020-09-16        3      9  2020        2\n",
              "2020-09-17        3      9  2020        3\n",
              "2020-09-18        3      9  2020        4\n",
              "2020-09-19        3      9  2020        5\n",
              "2020-09-20        3      9  2020        6\n",
              "\n",
              "[1359 rows x 4 columns]"
            ]
          },
          "metadata": {
            "tags": []
          },
          "execution_count": 294
        }
      ]
    },
    {
      "cell_type": "markdown",
      "metadata": {
        "id": "PvzxSte1Pso9",
        "colab_type": "text"
      },
      "source": [
        "## Drop date column and rows with nan values"
      ]
    },
    {
      "cell_type": "code",
      "metadata": {
        "id": "WeLqSwLiPe5N",
        "colab_type": "code",
        "colab": {
          "base_uri": "https://localhost:8080/",
          "height": 1000
        },
        "outputId": "0f5262c8-42bd-4b55-c1e7-a80407eeb848"
      },
      "source": [
        "dataset=dataset.drop('date', axis=1).dropna()\n",
        "dataset.info()"
      ],
      "execution_count": 295,
      "outputs": [
        {
          "output_type": "stream",
          "text": [
            "<class 'pandas.core.frame.DataFrame'>\n",
            "DatetimeIndex: 1319 entries, 2017-01-01 to 2020-09-02\n",
            "Data columns (total 57 columns):\n",
            " #   Column             Non-Null Count  Dtype  \n",
            "---  ------             --------------  -----  \n",
            " 0   temperature_0      1319 non-null   float64\n",
            " 1   temperature_1      1319 non-null   float64\n",
            " 2   temperature_2      1319 non-null   float64\n",
            " 3   temperature_3      1319 non-null   float64\n",
            " 4   temperature_4      1319 non-null   float64\n",
            " 5   temperature_5      1319 non-null   float64\n",
            " 6   temperature_6      1319 non-null   float64\n",
            " 7   temperature_7      1319 non-null   float64\n",
            " 8   temperature_8      1319 non-null   float64\n",
            " 9   temperature_9      1319 non-null   float64\n",
            " 10  temperature_10     1319 non-null   float64\n",
            " 11  temperature_11     1319 non-null   float64\n",
            " 12  temperature_12     1319 non-null   float64\n",
            " 13  temperature_13     1319 non-null   float64\n",
            " 14  temperature_14     1319 non-null   float64\n",
            " 15  temperature_15     1319 non-null   float64\n",
            " 16  temperature_16     1319 non-null   float64\n",
            " 17  temperature_17     1319 non-null   float64\n",
            " 18  temperature_18     1319 non-null   float64\n",
            " 19  temperature_19     1319 non-null   float64\n",
            " 20  temperature_20     1319 non-null   float64\n",
            " 21  temperature_21     1319 non-null   float64\n",
            " 22  temperature_22     1319 non-null   float64\n",
            " 23  temperature_23     1319 non-null   float64\n",
            " 24  humidity_0         1319 non-null   float64\n",
            " 25  humidity_1         1319 non-null   float64\n",
            " 26  humidity_2         1319 non-null   float64\n",
            " 27  humidity_3         1319 non-null   float64\n",
            " 28  humidity_4         1319 non-null   float64\n",
            " 29  humidity_5         1319 non-null   float64\n",
            " 30  humidity_6         1319 non-null   float64\n",
            " 31  humidity_7         1319 non-null   float64\n",
            " 32  humidity_8         1319 non-null   float64\n",
            " 33  humidity_9         1319 non-null   float64\n",
            " 34  humidity_10        1319 non-null   float64\n",
            " 35  humidity_11        1319 non-null   float64\n",
            " 36  humidity_12        1319 non-null   float64\n",
            " 37  humidity_13        1319 non-null   float64\n",
            " 38  humidity_14        1319 non-null   float64\n",
            " 39  humidity_15        1319 non-null   float64\n",
            " 40  humidity_16        1319 non-null   float64\n",
            " 41  humidity_17        1319 non-null   float64\n",
            " 42  humidity_18        1319 non-null   float64\n",
            " 43  humidity_19        1319 non-null   float64\n",
            " 44  humidity_20        1319 non-null   float64\n",
            " 45  humidity_21        1319 non-null   float64\n",
            " 46  humidity_22        1319 non-null   float64\n",
            " 47  humidity_23        1319 non-null   float64\n",
            " 48  precipitacao       1319 non-null   float64\n",
            " 49  precipitacao_next  1319 non-null   float64\n",
            " 50  target             1319 non-null   int64  \n",
            " 51  temp_mean          1319 non-null   float64\n",
            " 52  humi_mean          1319 non-null   float64\n",
            " 53  quarter            1319 non-null   int64  \n",
            " 54  month              1319 non-null   int64  \n",
            " 55  year               1319 non-null   int64  \n",
            " 56  weekday            1319 non-null   int64  \n",
            "dtypes: float64(52), int64(5)\n",
            "memory usage: 597.7 KB\n"
          ],
          "name": "stdout"
        }
      ]
    },
    {
      "cell_type": "markdown",
      "metadata": {
        "id": "XGQnNLGyQEaN",
        "colab_type": "text"
      },
      "source": [
        "## Correlation analisys"
      ]
    },
    {
      "cell_type": "code",
      "metadata": {
        "id": "hhcTGIkqQal9",
        "colab_type": "code",
        "colab": {
          "base_uri": "https://localhost:8080/",
          "height": 950
        },
        "outputId": "8faa03fc-2d93-4bc5-ff6a-89a863a991f6"
      },
      "source": [
        "corr_columns = dataset.columns\n",
        "\n",
        "# Compute the correlation matrix\n",
        "corr = dataset[corr_columns].select_dtypes(include=[np.number]).corr()\n",
        "\n",
        "# Generate a mask for the upper triangle\n",
        "mask = np.triu(np.ones_like(corr, dtype=np.bool))\n",
        "\n",
        "# Set up the matplotlib figure\n",
        "f, ax = plt.subplots(figsize=(24, 20))\n",
        "\n",
        "# Generate a custom diverging colormap\n",
        "cmap = sns.diverging_palette(220, 10, as_cmap=True)\n",
        "\n",
        "# Draw the heatmap with the mask and correct aspect ratio\n",
        "_ = sns.heatmap(corr, mask=mask, cmap=cmap, vmax=.3, center=0,\n",
        "    square=True, linewidths=.5, cbar_kws={\"shrink\": .5})"
      ],
      "execution_count": 296,
      "outputs": [
        {
          "output_type": "display_data",
          "data": {
            "image/png": "[encoded data removed]",
            "text/plain": [
              "<Figure size 1728x1440 with 2 Axes>"
            ]
          },
          "metadata": {
            "tags": [],
            "needs_background": "light"
          }
        }
      ]
    },
    {
      "cell_type": "markdown",
      "metadata": {
        "id": "y9wg0cuVWWcQ",
        "colab_type": "text"
      },
      "source": [
        "# Model training\n",
        "The dataset was splited between before 2020 (train) and 2020 (test)\n",
        "\n",
        "At this moment, the test was made with RandomForestClassifier()"
      ]
    },
    {
      "cell_type": "code",
      "metadata": {
        "id": "Svz1h2rkgWDg",
        "colab_type": "code",
        "colab": {}
      },
      "source": [
        "dataset_train = dataset[dataset.year < 2020]\n",
        "dataset_test  = dataset[dataset.year >= 2020]\n",
        "\n",
        "# Labels are the values we want to predict\n",
        "train_labels = np.array(dataset_train['target'])\n",
        "test_labels = np.array(dataset_test['target'])\n",
        "\n",
        "# Remove the labels from the features\n",
        "# axis 1 refers to the columns\n",
        "train_features= dataset_train.drop(['target','precipitacao_next'], axis = 1)\n",
        "test_features= dataset_test.drop(['target','precipitacao_next'], axis = 1)\n",
        "\n",
        "# Saving feature names for later use\n",
        "feature_list = list(train_features.columns)"
      ],
      "execution_count": 297,
      "outputs": []
    },
    {
      "cell_type": "code",
      "metadata": {
        "id": "7ZSnNUWKhE53",
        "colab_type": "code",
        "colab": {
          "base_uri": "https://localhost:8080/",
          "height": 90
        },
        "outputId": "84fd9371-f892-4bdc-b633-421e27e5c3ca"
      },
      "source": [
        "print('Training Features Shape:', train_features.shape)\n",
        "print('Training Labels Shape:', train_labels.shape)\n",
        "print('Testing Features Shape:', test_features.shape)\n",
        "print('Testing Labels Shape:', test_labels.shape)"
      ],
      "execution_count": 298,
      "outputs": [
        {
          "output_type": "stream",
          "text": [
            "Training Features Shape: (1085, 55)\n",
            "Training Labels Shape: (1085,)\n",
            "Testing Features Shape: (234, 55)\n",
            "Testing Labels Shape: (234,)\n"
          ],
          "name": "stdout"
        }
      ]
    },
    {
      "cell_type": "code",
      "metadata": {
        "id": "SeRDQM8-TmUL",
        "colab_type": "code",
        "colab": {
          "base_uri": "https://localhost:8080/",
          "height": 163
        },
        "outputId": "f1280b33-33e5-4fc7-d490-8a5a8473cbb1"
      },
      "source": [
        "# Instantiate model \n",
        "rf = RandomForestClassifier(n_estimators= 1000, random_state=42)\n",
        "\n",
        "# Train the model on training data\n",
        "rf.fit(train_features, train_labels)"
      ],
      "execution_count": 300,
      "outputs": [
        {
          "output_type": "execute_result",
          "data": {
            "text/plain": [
              "RandomForestClassifier(bootstrap=True, ccp_alpha=0.0, class_weight=None,\n",
              "                       criterion='gini', max_depth=None, max_features='auto',\n",
              "                       max_leaf_nodes=None, max_samples=None,\n",
              "                       min_impurity_decrease=0.0, min_impurity_split=None,\n",
              "                       min_samples_leaf=1, min_samples_split=2,\n",
              "                       min_weight_fraction_leaf=0.0, n_estimators=1000,\n",
              "                       n_jobs=None, oob_score=False, random_state=42, verbose=0,\n",
              "                       warm_start=False)"
            ]
          },
          "metadata": {
            "tags": []
          },
          "execution_count": 300
        }
      ]
    },
    {
      "cell_type": "markdown",
      "metadata": {
        "id": "1cVc4V8VXC65",
        "colab_type": "text"
      },
      "source": [
        "# Results:\n",
        "The result accuracy was 81% which is really good without hypeparameters tunning and other models tests.\n",
        "\n",
        "The confusion matrix tells that more than 96% of the sunny days were identified with success and 37% of the rainy days were predicted with success.\n",
        "\n",
        "Considering that this result is just a start I think my conclusion is that I beat the \"heads or tails\""
      ]
    },
    {
      "cell_type": "code",
      "metadata": {
        "id": "Yya1sbN5Tp3-",
        "colab_type": "code",
        "colab": {
          "base_uri": "https://localhost:8080/",
          "height": 35
        },
        "outputId": "ab9858d5-6fbe-43c4-aa01-6d2089ec2f4c"
      },
      "source": [
        "y_pred=rf.predict(test_features)\n",
        "\n",
        "#Import scikit-learn metrics module for accuracy calculation\n",
        "from sklearn import metrics\n",
        "# Model Accuracy, how often is the classifier correct?\n",
        "print(\"Accuracy:\",metrics.accuracy_score(test_labels, y_pred))"
      ],
      "execution_count": 301,
      "outputs": [
        {
          "output_type": "stream",
          "text": [
            "Accuracy: 0.8162393162393162\n"
          ],
          "name": "stdout"
        }
      ]
    },
    {
      "cell_type": "code",
      "metadata": {
        "id": "E6j1p61oT6w4",
        "colab_type": "code",
        "colab": {
          "base_uri": "https://localhost:8080/",
          "height": 54
        },
        "outputId": "490eb731-01f8-4634-8c9b-cf0e7c698ed0"
      },
      "source": [
        "from sklearn.metrics import confusion_matrix\n",
        "confusion_matrix(test_labels, y_pred)"
      ],
      "execution_count": 302,
      "outputs": [
        {
          "output_type": "execute_result",
          "data": {
            "text/plain": [
              "array([[169,   7],\n",
              "       [ 36,  22]])"
            ]
          },
          "metadata": {
            "tags": []
          },
          "execution_count": 302
        }
      ]
    },
    {
      "cell_type": "code",
      "metadata": {
        "id": "UjqqE15PWEpF",
        "colab_type": "code",
        "colab": {}
      },
      "source": [
        ""
      ],
      "execution_count": null,
      "outputs": []
    }
  ]
}