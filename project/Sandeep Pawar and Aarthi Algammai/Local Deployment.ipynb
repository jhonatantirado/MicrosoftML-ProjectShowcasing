{
 "cells": [
  {
   "cell_type": "code",
   "execution_count": 2,
   "metadata": {},
   "outputs": [
    {
     "data": {
      "text/plain": [
       "'\\nProject : Udacity project_showcase_challenge\\nTeam    : Sandeep Pawar, Aarthi Alagammai\\nVersion : 1.2\\nDate    : 9/11/2020\\n\\n'"
      ]
     },
     "execution_count": 2,
     "metadata": {},
     "output_type": "execute_result"
    }
   ],
   "source": [
    "'''\n",
    "Project : Udacity project_showcase_challenge\n",
    "Team    : Sandeep Pawar, Aarthi Alagammai\n",
    "Version : 1.2\n",
    "Date    : 9/11/2020\n",
    "\n",
    "'''"
   ]
  },
  {
   "cell_type": "markdown",
   "metadata": {},
   "source": [
    "# Import packages "
   ]
  },
  {
   "cell_type": "code",
   "execution_count": 1,
   "metadata": {},
   "outputs": [],
   "source": [
    "import numpy as np\n",
    "import pandas as pd\n",
    "import os\n",
    "import azureml.core\n",
    "import forecast\n",
    "\n",
    "from azureml.core import Workspace\n",
    "\n",
    "ws = Workspace.from_config()"
   ]
  },
  {
   "cell_type": "markdown",
   "metadata": {},
   "source": [
    "# Model Registration\n"
   ]
  },
  {
   "cell_type": "code",
   "execution_count": 3,
   "metadata": {},
   "outputs": [
    {
     "name": "stdout",
     "output_type": "stream",
     "text": [
      "Registering model Fuel_Sales_Forecast\n"
     ]
    }
   ],
   "source": [
    "\n",
    "\n",
    "from azureml.core.model import Model\n",
    "\n",
    "model = Model.register(model_path=\"forecast.py\",\n",
    "                       model_name=\"Fuel_Sales_Forecast\",\n",
    "                       tags={'area': \"fuel_sales\", 'type': \"classical_forecast\"},\n",
    "                       description=\"Forecast the three fuels\",\n",
    "                       workspace=ws)\n",
    "\n",
    "MODEL_DIR  = \"..\\forecasting\\model\\ \""
   ]
  },
  {
   "cell_type": "markdown",
   "metadata": {},
   "source": [
    "# Enviroment Creation"
   ]
  },
  {
   "cell_type": "code",
   "execution_count": 4,
   "metadata": {},
   "outputs": [
    {
     "name": "stdout",
     "output_type": "stream",
     "text": [
      "Environment(Name: LocalDeploy,\n",
      "Version: None)\n"
     ]
    }
   ],
   "source": [
    "from azureml.core.environment import Environment\n",
    "\n",
    "packages = ['pandas', 'statsmodels', 'scipy', 'fbprophet', 'numpy', \"inference-schema\" ]\n",
    "\n",
    "environment = Environment(\"LocalDeploy\")\n",
    "for package in packages:\n",
    "    environment.python.conda_dependencies.add_pip_package(package)\n",
    "\n",
    "print(environment)\n",
    "\n"
   ]
  },
  {
   "cell_type": "markdown",
   "metadata": {},
   "source": [
    "# Scoring"
   ]
  },
  {
   "cell_type": "code",
   "execution_count": 5,
   "metadata": {},
   "outputs": [
    {
     "name": "stdout",
     "output_type": "stream",
     "text": [
      "Writing forecast_score.py\n"
     ]
    }
   ],
   "source": [
    "\n",
    "\n",
    "%%writefile forecast_score.py\n",
    "\n",
    "\n",
    "from inference_schema.schema_decorators import input_schema, output_schema\n",
    "from inference_schema.parameter_types.numpy_parameter_type import NumpyParameterType\n",
    "from inference_schema.parameter_types.pandas_parameter_type import PandasParameterType\n",
    "\n",
    "\n",
    "def init():\n",
    "\n",
    "    global model\n",
    "    \n",
    "    model = os.path.join(os.getenv('MODEL_DIR'), 'forecast.py')\n",
    "    \n",
    "\n",
    "    input_sample = pd.DataFrame({'Fuel':,['a'] * 10\n",
    "                                 'Sales': np.arange(1,11, dtype='float64').tolist()}, \n",
    "                                  index=pd.date_range('1-1-2000', freq='MS',periods=10))\n",
    "\n",
    "\n",
    "    output_sample = pd.DataFrame({'Pellet'    : np.arange(1,11, dtype='float64').tolist(), \n",
    "                                  'Firewood'  : np.arange(1,11, dtype='float64').tolist(),\n",
    "                                  'Briquette' : np.arange(1,11, dtype='float64').tolist()})\n",
    "    \n",
    "    \n",
    "\n",
    "@input_schema('data', PandasParameterType(input_sample, enforce_shape=False))\n",
    "@output_schema(PandasParameterType (output_sample))\n",
    "\n",
    "data_path   = \"https://powerbibyos3.blob.core.windows.net/powerbi/Trial/test/Query.csv.snapshots/data.csv\"\n",
    "result_path = \"https://powerbibyos3.blob.core.windows.net/powerbi/Trial/result/\"\n",
    "\n",
    "\n",
    "\n",
    "def run(data):\n",
    "    try:\n",
    "    \n",
    "        \n",
    "        result = pd.DataFrame({ \n",
    "                                 'Pellet': pellet_forecast(data.query('Fuel == \"Pellet\"')['Sales'],12).tolist(),\n",
    "                                 'Firewood': firewood_forecast(data.query('Fuel == \"Firewood\"')['Sales'],12).tolist(),\n",
    "                                 'Briquette': briquette_forecast(data.query('Fuel == \"Briquette\"')['Sales'],12).tolist()\n",
    "                             })\n",
    "        \n",
    "        return result.to_csv(result_path, sep='\\t')\n",
    "    \n",
    "    except Exception as e:\n",
    "        error = str(e)\n",
    "        return error"
   ]
  },
  {
   "cell_type": "markdown",
   "metadata": {},
   "source": [
    "# Create Inference Configuration"
   ]
  },
  {
   "cell_type": "code",
   "execution_count": null,
   "metadata": {},
   "outputs": [],
   "source": [
    "from azureml.core.model import InferenceConfig\n",
    "\n",
    "inference_config = InferenceConfig(entry_script=forecat_score.py,\n",
    "                                   environment=environment)"
   ]
  },
  {
   "cell_type": "markdown",
   "metadata": {},
   "source": [
    "# Deploy Local Web Service"
   ]
  },
  {
   "cell_type": "code",
   "execution_count": null,
   "metadata": {},
   "outputs": [],
   "source": [
    "from azureml.core.webservice import LocalWebservice\n",
    "\n",
    "# This is optional, if not provided Docker will choose a random unused port.\n",
    "deployment_config = LocalWebservice.deploy_configuration(port=5885)\n",
    "\n",
    "local_service = Model.deploy(ws, \"inference\", model , inference_config, deployment_config)\n",
    "\n",
    "local_service.wait_for_deployment()"
   ]
  },
  {
   "cell_type": "markdown",
   "metadata": {},
   "source": [
    "# Run Inference"
   ]
  },
  {
   "cell_type": "code",
   "execution_count": null,
   "metadata": {},
   "outputs": [],
   "source": [
    "\n",
    "data = (\n",
    "           import_data(data_path)\n",
    "           .pipe(clean_data)\n",
    "       ) \n",
    "\n",
    "\n",
    "result = pd.DataFrame({ \n",
    "                             'Pellet'   : pellet_forecast(data[data.Fuel=='Pellets']['Sales'].sort_index(),12).tolist(),\n",
    "                             'Firewood' : firewood_forecast(data[data.Fuel=='Pellets']['Sales'].sort_index(),12).tolist(),\n",
    "                             'Briquette': briquette_forecast(data[data.Fuel=='Pellets']['Sales'].sort_index(),12).tolist()\n",
    "                   \n",
    "                     })\n",
    "        \n",
    "local_service.run(data)"
   ]
  }
 ],
 "metadata": {
  "kernelspec": {
   "display_name": "Python 3",
   "language": "python",
   "name": "python3"
  },
  "language_info": {
   "codemirror_mode": {
    "name": "ipython",
    "version": 3
   },
   "file_extension": ".py",
   "mimetype": "text/x-python",
   "name": "python",
   "nbconvert_exporter": "python",
   "pygments_lexer": "ipython3",
   "version": "3.6.10"
  }
 },
 "nbformat": 4,
 "nbformat_minor": 4
}
