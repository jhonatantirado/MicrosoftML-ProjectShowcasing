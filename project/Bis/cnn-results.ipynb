{
 "cells": [
  {
   "cell_type": "code",
   "execution_count": 2,
   "metadata": {},
   "outputs": [],
   "source": [
    "import numpy as np\n",
    "from pathlib import Path\n",
    "from train_class import *\n",
    "from utils import *\n",
    "from network import ConvNet\n",
    "import torch.nn as nn\n",
    "from torch.optim import Adam, SGD\n",
    "from sklearn.metrics import classification_report, confusion_matrix"
   ]
  },
  {
   "cell_type": "code",
   "execution_count": 3,
   "metadata": {},
   "outputs": [],
   "source": [
    "train_data_cwt = np.load('x_train_random_cwt.npy')\n",
    "test_data_cwt = np.load('x_test_random_cwt.npy')\n",
    "train_labels = np.load('y_train_random.npy')\n",
    "test_labels = np.load('y_test_random.npy')"
   ]
  },
  {
   "cell_type": "code",
   "execution_count": 4,
   "metadata": {},
   "outputs": [
    {
     "name": "stdout",
     "output_type": "stream",
     "text": [
      "Number of samples in each class in train set: (array([1., 2., 3., 4., 5., 6.]), array([808, 701, 671, 867, 963, 990]))\n"
     ]
    }
   ],
   "source": [
    "print (\"Number of samples in each class in train set:\", np.unique(train_labels, return_counts=True))"
   ]
  },
  {
   "cell_type": "code",
   "execution_count": 6,
   "metadata": {},
   "outputs": [
    {
     "name": "stdout",
     "output_type": "stream",
     "text": [
      "Number of samples in each class in test set: (array([1., 2., 3., 4., 5., 6.]), array([153, 163, 163, 184, 170, 167]))\n"
     ]
    }
   ],
   "source": [
    "print (\"Number of samples in each class in test set:\", np.unique(test_labels, return_counts=True))"
   ]
  },
  {
   "cell_type": "code",
   "execution_count": 5,
   "metadata": {},
   "outputs": [],
   "source": [
    "train_data_cwt = train_data_cwt.astype(np.float32)\n",
    "test_data_cwt = test_data_cwt.astype(np.float32)\n",
    "train_labels = train_labels.astype(np.float32)\n",
    "test_labels = test_labels.astype(np.float32)"
   ]
  },
  {
   "cell_type": "code",
   "execution_count": 6,
   "metadata": {},
   "outputs": [],
   "source": [
    "X_train_tensor = torch.from_numpy(train_data_cwt)\n",
    "X_test_tensor = torch.from_numpy(test_data_cwt)\n",
    "y_train_tensor = torch.from_numpy(train_labels).long()\n",
    "y_test_tensor = torch.from_numpy(test_labels).long()"
   ]
  },
  {
   "cell_type": "code",
   "execution_count": 7,
   "metadata": {},
   "outputs": [],
   "source": [
    "y_train_tensor = y_train_tensor - 1\n",
    "y_test_tensor = y_test_tensor -1"
   ]
  },
  {
   "cell_type": "code",
   "execution_count": 8,
   "metadata": {},
   "outputs": [
    {
     "data": {
      "text/plain": [
       "((5000, 9, 127, 127), torch.Size([5000, 9, 127, 127]))"
      ]
     },
     "execution_count": 8,
     "metadata": {},
     "output_type": "execute_result"
    }
   ],
   "source": [
    "train_data_cwt.shape, X_train_tensor.size()"
   ]
  },
  {
   "cell_type": "code",
   "execution_count": 17,
   "metadata": {},
   "outputs": [],
   "source": [
    "num_epochs = 100\n",
    "num_classes = 6\n",
    "bs = 64\n",
    "learning_rate = 0.001\n",
    "model = ConvNet()\n",
    "criterion = nn.CrossEntropyLoss()\n",
    "optimizer = SGD(model.parameters(), lr=learning_rate)"
   ]
  },
  {
   "cell_type": "code",
   "execution_count": 18,
   "metadata": {},
   "outputs": [],
   "source": [
    "train = torch.utils.data.TensorDataset(X_train_tensor, y_train_tensor)\n",
    "test = torch.utils.data.TensorDataset(X_test_tensor, y_test_tensor)\n",
    "\n",
    "train_loader = torch.utils.data.DataLoader(train, batch_size=bs, shuffle=True)\n",
    "test_loader = torch.utils.data.DataLoader(test, batch_size=bs, shuffle=False)"
   ]
  },
  {
   "cell_type": "code",
   "execution_count": 19,
   "metadata": {},
   "outputs": [
    {
     "name": "stdout",
     "output_type": "stream",
     "text": [
      "Epoch 2/100 \t loss=1.7675 \t test_loss=0.3564 \t time=122.88s\n",
      "Epoch 12/100 \t loss=1.3589 \t test_loss=0.2783 \t time=123.60s\n",
      "Epoch 22/100 \t loss=1.1954 \t test_loss=0.2463 \t time=124.70s\n",
      "Epoch 32/100 \t loss=1.1647 \t test_loss=0.2410 \t time=129.59s\n",
      "Epoch 42/100 \t loss=1.1507 \t test_loss=0.2386 \t time=132.09s\n",
      "Epoch 52/100 \t loss=1.1400 \t test_loss=0.2365 \t time=135.81s\n",
      "Epoch 62/100 \t loss=1.1318 \t test_loss=0.2342 \t time=134.84s\n",
      "Epoch 72/100 \t loss=1.1256 \t test_loss=0.2320 \t time=131.79s\n",
      "Epoch 82/100 \t loss=1.1182 \t test_loss=0.2305 \t time=123.97s\n",
      "Epoch 92/100 \t loss=1.1129 \t test_loss=0.2294 \t time=124.00s\n",
      "average fold losses: \n",
      "     epoch     train      test\n",
      "0       0  1.784377  0.359949\n",
      "1       1  1.767463  0.356361\n",
      "2       2  1.746074  0.351798\n",
      "3       3  1.714155  0.344304\n",
      "4       4  1.654456  0.332507\n",
      "..    ...       ...       ...\n",
      "95     95  1.110148  0.229023\n",
      "96     96  1.114648  0.228946\n",
      "97     97  1.109898  0.228856\n",
      "98     98  1.110557  0.228833\n",
      "99     99  1.108585  0.228960\n",
      "\n",
      "[100 rows x 3 columns]\n"
     ]
    },
    {
     "data": {
      "image/png": "[encoded data removed]",
      "text/plain": [
       "<Figure size 432x288 with 1 Axes>"
      ]
     },
     "metadata": {},
     "output_type": "display_data"
    },
    {
     "data": {
      "text/plain": [
       "<Figure size 432x288 with 0 Axes>"
      ]
     },
     "metadata": {},
     "output_type": "display_data"
    }
   ],
   "source": [
    "train_class(model, num_epochs=num_epochs, bs=bs, train_loader=train_loader, test_loader=test_loader,\n",
    "            criterion=criterion, optimizer=optimizer)          "
   ]
  },
  {
   "cell_type": "code",
   "execution_count": 31,
   "metadata": {},
   "outputs": [
    {
     "data": {
      "text/html": [
       "<div>\n",
       "<style scoped>\n",
       "    .dataframe tbody tr th:only-of-type {\n",
       "        vertical-align: middle;\n",
       "    }\n",
       "\n",
       "    .dataframe tbody tr th {\n",
       "        vertical-align: top;\n",
       "    }\n",
       "\n",
       "    .dataframe thead th {\n",
       "        text-align: right;\n",
       "    }\n",
       "</style>\n",
       "<table border=\"1\" class=\"dataframe\">\n",
       "  <thead>\n",
       "    <tr style=\"text-align: right;\">\n",
       "      <th></th>\n",
       "      <th>precision</th>\n",
       "      <th>recall</th>\n",
       "      <th>f1-score</th>\n",
       "      <th>support</th>\n",
       "    </tr>\n",
       "  </thead>\n",
       "  <tbody>\n",
       "    <tr>\n",
       "      <th>1</th>\n",
       "      <td>0.967320</td>\n",
       "      <td>0.986667</td>\n",
       "      <td>0.976898</td>\n",
       "      <td>150.000</td>\n",
       "    </tr>\n",
       "    <tr>\n",
       "      <th>2</th>\n",
       "      <td>0.987730</td>\n",
       "      <td>0.920000</td>\n",
       "      <td>0.952663</td>\n",
       "      <td>175.000</td>\n",
       "    </tr>\n",
       "    <tr>\n",
       "      <th>3</th>\n",
       "      <td>0.993865</td>\n",
       "      <td>0.975904</td>\n",
       "      <td>0.984802</td>\n",
       "      <td>166.000</td>\n",
       "    </tr>\n",
       "    <tr>\n",
       "      <th>4</th>\n",
       "      <td>0.788043</td>\n",
       "      <td>0.889571</td>\n",
       "      <td>0.835735</td>\n",
       "      <td>163.000</td>\n",
       "    </tr>\n",
       "    <tr>\n",
       "      <th>5</th>\n",
       "      <td>0.894118</td>\n",
       "      <td>0.800000</td>\n",
       "      <td>0.844444</td>\n",
       "      <td>190.000</td>\n",
       "    </tr>\n",
       "    <tr>\n",
       "      <th>6</th>\n",
       "      <td>0.928144</td>\n",
       "      <td>0.993590</td>\n",
       "      <td>0.959752</td>\n",
       "      <td>156.000</td>\n",
       "    </tr>\n",
       "    <tr>\n",
       "      <th>accuracy</th>\n",
       "      <td>0.923000</td>\n",
       "      <td>0.923000</td>\n",
       "      <td>0.923000</td>\n",
       "      <td>0.923</td>\n",
       "    </tr>\n",
       "    <tr>\n",
       "      <th>macro avg</th>\n",
       "      <td>0.926537</td>\n",
       "      <td>0.927622</td>\n",
       "      <td>0.925716</td>\n",
       "      <td>1000.000</td>\n",
       "    </tr>\n",
       "    <tr>\n",
       "      <th>weighted avg</th>\n",
       "      <td>0.926056</td>\n",
       "      <td>0.923000</td>\n",
       "      <td>0.923118</td>\n",
       "      <td>1000.000</td>\n",
       "    </tr>\n",
       "  </tbody>\n",
       "</table>\n",
       "</div>"
      ],
      "text/plain": [
       "              precision    recall  f1-score   support\n",
       "1              0.967320  0.986667  0.976898   150.000\n",
       "2              0.987730  0.920000  0.952663   175.000\n",
       "3              0.993865  0.975904  0.984802   166.000\n",
       "4              0.788043  0.889571  0.835735   163.000\n",
       "5              0.894118  0.800000  0.844444   190.000\n",
       "6              0.928144  0.993590  0.959752   156.000\n",
       "accuracy       0.923000  0.923000  0.923000     0.923\n",
       "macro avg      0.926537  0.927622  0.925716  1000.000\n",
       "weighted avg   0.926056  0.923000  0.923118  1000.000"
      ]
     },
     "metadata": {},
     "output_type": "display_data"
    },
    {
     "name": "stdout",
     "output_type": "stream",
     "text": [
      "Number of samples in each class in test set: (array([1., 2., 3., 4., 5., 6.], dtype=float32), array([153, 163, 163, 184, 170, 167]))\n"
     ]
    },
    {
     "data": {
      "text/html": [
       "<div>\n",
       "<style scoped>\n",
       "    .dataframe tbody tr th:only-of-type {\n",
       "        vertical-align: middle;\n",
       "    }\n",
       "\n",
       "    .dataframe tbody tr th {\n",
       "        vertical-align: top;\n",
       "    }\n",
       "\n",
       "    .dataframe thead th {\n",
       "        text-align: right;\n",
       "    }\n",
       "</style>\n",
       "<table border=\"1\" class=\"dataframe\">\n",
       "  <thead>\n",
       "    <tr style=\"text-align: right;\">\n",
       "      <th></th>\n",
       "      <th>0</th>\n",
       "      <th>1</th>\n",
       "      <th>2</th>\n",
       "      <th>3</th>\n",
       "      <th>4</th>\n",
       "      <th>5</th>\n",
       "    </tr>\n",
       "  </thead>\n",
       "  <tbody>\n",
       "    <tr>\n",
       "      <th>0</th>\n",
       "      <td>148</td>\n",
       "      <td>2</td>\n",
       "      <td>0</td>\n",
       "      <td>0</td>\n",
       "      <td>0</td>\n",
       "      <td>0</td>\n",
       "    </tr>\n",
       "    <tr>\n",
       "      <th>1</th>\n",
       "      <td>1</td>\n",
       "      <td>161</td>\n",
       "      <td>1</td>\n",
       "      <td>0</td>\n",
       "      <td>0</td>\n",
       "      <td>12</td>\n",
       "    </tr>\n",
       "    <tr>\n",
       "      <th>2</th>\n",
       "      <td>4</td>\n",
       "      <td>0</td>\n",
       "      <td>162</td>\n",
       "      <td>0</td>\n",
       "      <td>0</td>\n",
       "      <td>0</td>\n",
       "    </tr>\n",
       "    <tr>\n",
       "      <th>3</th>\n",
       "      <td>0</td>\n",
       "      <td>0</td>\n",
       "      <td>0</td>\n",
       "      <td>145</td>\n",
       "      <td>18</td>\n",
       "      <td>0</td>\n",
       "    </tr>\n",
       "    <tr>\n",
       "      <th>4</th>\n",
       "      <td>0</td>\n",
       "      <td>0</td>\n",
       "      <td>0</td>\n",
       "      <td>38</td>\n",
       "      <td>152</td>\n",
       "      <td>0</td>\n",
       "    </tr>\n",
       "    <tr>\n",
       "      <th>5</th>\n",
       "      <td>0</td>\n",
       "      <td>0</td>\n",
       "      <td>0</td>\n",
       "      <td>1</td>\n",
       "      <td>0</td>\n",
       "      <td>155</td>\n",
       "    </tr>\n",
       "  </tbody>\n",
       "</table>\n",
       "</div>"
      ],
      "text/plain": [
       "     0    1    2    3    4    5\n",
       "0  148    2    0    0    0    0\n",
       "1    1  161    1    0    0   12\n",
       "2    4    0  162    0    0    0\n",
       "3    0    0    0  145   18    0\n",
       "4    0    0    0   38  152    0\n",
       "5    0    0    0    1    0  155"
      ]
     },
     "metadata": {},
     "output_type": "display_data"
    },
    {
     "name": "stdout",
     "output_type": "stream",
     "text": [
      "Normalized precision cf\n"
     ]
    },
    {
     "data": {
      "image/png": "[encoded data removed]",
      "text/plain": [
       "<Figure size 576x432 with 2 Axes>"
      ]
     },
     "metadata": {},
     "output_type": "display_data"
    },
    {
     "name": "stdout",
     "output_type": "stream",
     "text": [
      "Normalized recall cf\n"
     ]
    },
    {
     "data": {
      "image/png": "[encoded data removed]",
      "text/plain": [
       "<Figure size 576x432 with 2 Axes>"
      ]
     },
     "metadata": {},
     "output_type": "display_data"
    }
   ],
   "source": [
    "with torch.no_grad():\n",
    "    output = model(X_test_tensor)\n",
    "    pred = np.argmax(output, axis=1) + 1\n",
    "    report = classification_report(pred, test_labels, output_dict=True)\n",
    "    df = pd.DataFrame(report).transpose()\n",
    "    display(df)\n",
    "    cf_matrix = confusion_matrix(pred, test_labels)\n",
    "    df1 = pd.DataFrame(cf_matrix)\n",
    "    print(\"Number of samples in each class in test set:\", np.unique(test_labels, return_counts=True))\n",
    "    display(df1)\n",
    "    plt.figure(figsize=[8, 6])\n",
    "    cf_matrix_normalized_p = cf_matrix / cf_matrix.astype(np.float).sum(axis=0) \n",
    "    cf_matrix_normalized_r = cf_matrix / cf_matrix.astype(np.float).sum(axis=1)\n",
    "    print(\"Normalized precision cf\")\n",
    "    sns.heatmap(cf_matrix_normalized_p, annot=True, cmap='Blues')\n",
    "    plt.show()\n",
    "    plt.figure(figsize=[8, 6])\n",
    "    print(\"Normalized recall cf\")\n",
    "    sns.heatmap(cf_matrix_normalized_r, annot=True, cmap='Blues')\n",
    "    plt.show()"
   ]
  },
  {
   "cell_type": "code",
   "execution_count": 37,
   "metadata": {},
   "outputs": [],
   "source": [
    "PATH = \"../model.pkl\""
   ]
  },
  {
   "cell_type": "code",
   "execution_count": 38,
   "metadata": {},
   "outputs": [],
   "source": [
    "torch.save(model.state_dict(), PATH)"
   ]
  },
  {
   "cell_type": "code",
   "execution_count": null,
   "metadata": {},
   "outputs": [],
   "source": []
  },
  {
   "cell_type": "code",
   "execution_count": null,
   "metadata": {},
   "outputs": [],
   "source": []
  }
 ],
 "metadata": {
  "kernelspec": {
   "display_name": "Python 3",
   "language": "python",
   "name": "python3"
  },
  "language_info": {
   "codemirror_mode": {
    "name": "ipython",
    "version": 3
   },
   "file_extension": ".py",
   "mimetype": "text/x-python",
   "name": "python",
   "nbconvert_exporter": "python",
   "pygments_lexer": "ipython3",
   "version": "3.6.10"
  }
 },
 "nbformat": 4,
 "nbformat_minor": 4
}
